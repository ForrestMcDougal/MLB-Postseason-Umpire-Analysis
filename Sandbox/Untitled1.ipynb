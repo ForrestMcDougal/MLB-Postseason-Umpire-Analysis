{
 "cells": [
  {
   "cell_type": "code",
   "execution_count": null,
   "metadata": {},
   "outputs": [],
   "source": [
    "%matplotlib inline\n",
    "import pandas as pd\n",
    "import matplotlib.pyplot as plt\n",
    "import requests\n",
    "import csv\n",
    "import time\n",
    "import seaborn as sns\n",
    "\n",
    "from config import api_key"
   ]
  },
  {
   "cell_type": "code",
   "execution_count": null,
   "metadata": {},
   "outputs": [],
   "source": [
    "url = f'http://api.sportradar.us/mlb/trial/v6.5/en/games/2018/PST/schedule.json?api_key={api_key}'\n",
    "\n",
    "resp = requests.get(url).json()"
   ]
  },
  {
   "cell_type": "code",
   "execution_count": null,
   "metadata": {},
   "outputs": [],
   "source": [
    "postseason_games = [x['id'] for x in resp['games']]"
   ]
  },
  {
   "cell_type": "code",
   "execution_count": null,
   "metadata": {},
   "outputs": [],
   "source": [
    "games = list()\n",
    "\n",
    "i = 0\n",
    "k = 0\n",
    "\n",
    "for game in postseason_games:\n",
    "    try:\n",
    "        k += 1\n",
    "        time.sleep(1)\n",
    "        game_url = f'http://api.sportradar.us/mlb/trial/v6.5/en/games/{game}/pbp.json?api_key={api_key}'\n",
    "        game_resp = requests.get(game_url).json()\n",
    "        if 'pitch_x' in game_resp['game']['innings'][1]['halfs'][0]['events'][0]['at_bat']['events'][0]['pitcher'].keys():\n",
    "            games.append(game)\n",
    "            i += 1\n",
    "        print(f'{i}/{k}')\n",
    "    except Exception as x:\n",
    "        print(f'{i}/{k}')"
   ]
  },
  {
   "cell_type": "code",
   "execution_count": null,
   "metadata": {},
   "outputs": [],
   "source": [
    "outcome_ids = ['kKL', 'bB', 'aKLAD1', 'aKLAD2', 'aKLAD3', 'aKLAD4', 'oKLT1', 'oKLT2', 'oKLT3', 'oKLT4']\n",
    "csv_header = ['Umpire', 'Game_ID', 'Home/Away', 'Called Ball/Strike', 'Pitch_X', 'Pitch_Y', 'Pitcher_Hand',\n",
    "              'Batter_Hand', 'Pitch_Type', 'Pitch_Speed']\n",
    "\n",
    "with open('Resources/pitch_data.csv', 'w', newline='') as fout:\n",
    "    csvwriter = csv.writer(fout, delimiter=',')\n",
    "    csvwriter.writerow(csv_header)\n",
    "    for game in games:\n",
    "        time.sleep(1.1)\n",
    "        game_json = get_game_by_id(game, api_key)\n",
    "        time.sleep(1.1)\n",
    "        umpire = get_umpire(game, api_key)\n",
    "        for inning in game_json['game']['innings'][1:]:\n",
    "            for half in inning['halfs']:\n",
    "                t_b = half['half']\n",
    "                if t_b == 'T':\n",
    "                    t_b = 'Away'\n",
    "                else:\n",
    "                    t_b = 'Home'\n",
    "                for event in half['events']:\n",
    "                    try:\n",
    "                        for pitch in event['at_bat']['events']:\n",
    "                            if pitch['outcome_id'] in outcome_ids:\n",
    "                                if pitch['outcome_id'] == 'bB':\n",
    "                                    call = 'Ball'\n",
    "                                else:\n",
    "                                    call = 'Strike'\n",
    "                                pitch_type = pitch['pitcher']['pitch_type']\n",
    "                                pitch_speed = pitch['pitcher']['pitch_speed']\n",
    "                                pitcher_hand = pitch['pitcher']['pitcher_hand']\n",
    "                                batter_hand = pitch['pitcher']['hitter_hand']\n",
    "                                pitch_x = pitch['pitcher']['pitch_x']\n",
    "                                pitch_y = pitch['pitcher']['pitch_y']\n",
    "                                csvwriter.writerow([umpire, game, t_b, call, pitch_x, pitch_y, pitcher_hand,\n",
    "                                                    batter_hand, pitch_type, pitch_speed])\n",
    "                    except:\n",
    "                        pass\n",
    "                            \n",
    "print('done')"
   ]
  },
  {
   "cell_type": "code",
   "execution_count": null,
   "metadata": {},
   "outputs": [],
   "source": [
    "pitch_df = pd.read_csv('Resources/pitch_data.csv')\n",
    "pitch_df.head()"
   ]
  },
  {
   "cell_type": "code",
   "execution_count": null,
   "metadata": {},
   "outputs": [],
   "source": [
    "pitch_dictionary = {'FA': 'Fastball',\n",
    "                    'SI': 'Sinker',\n",
    "                    'CT': 'Cutter',\n",
    "                    'CU': 'Curveball',\n",
    "                    'SL': 'Slider',\n",
    "                    'CH': 'Changeup',\n",
    "                    'KN': 'Knuckleball',\n",
    "                    'SP': 'Splitter',\n",
    "                    'SC': 'Screwball',\n",
    "                    'FO': 'Forkball',\n",
    "                    'IB': 'Intentional Ball',\n",
    "                    'PI': 'Pitchout',}\n",
    "\n",
    "pitch_df['Theoretical_Call'] = ''\n",
    "pitch_df['Accurate'] = ''\n",
    "pitch_df['Strike'] = ''\n",
    "\n",
    "for i, row in pitch_df.iterrows():\n",
    "    pitch_x = abs(row['Pitch_X'])\n",
    "    pitch_y = abs(row['Pitch_Y'])\n",
    "    pitch_type = row['Pitch Type']\n",
    "    pitch_df.loc[i, 'Pitch Type'] = pitch_dictionary.get(pitch_type, 'NA')\n",
    "    if (pitch_x > 100) or (pitch_y > 100):\n",
    "        pitch_df.loc[i, 'Theoretical_Call'] = 'Ball'\n",
    "        pitch_df.loc[i, 'Strike'] = False\n",
    "    else:\n",
    "        pitch_df.loc[i, 'Theoretical_Call'] = 'Strike'\n",
    "        pitch_df.loc[i, 'Strike'] = True\n",
    "    if pitch_df.loc[i, 'Called Ball/Strike'] == pitch_df.loc[i, 'Theoretical_Call']:\n",
    "        pitch_df.loc[i, 'Accurate'] = True\n",
    "    else:\n",
    "        pitch_df.loc[i, 'Accurate'] = False\n",
    "\n",
    "pitch_df.head()"
   ]
  },
  {
   "cell_type": "code",
   "execution_count": null,
   "metadata": {},
   "outputs": [],
   "source": []
  }
 ],
 "metadata": {
  "kernelspec": {
   "display_name": "Python 3",
   "language": "python",
   "name": "python3"
  },
  "language_info": {
   "codemirror_mode": {
    "name": "ipython",
    "version": 3
   },
   "file_extension": ".py",
   "mimetype": "text/x-python",
   "name": "python",
   "nbconvert_exporter": "python",
   "pygments_lexer": "ipython3",
   "version": "3.6.6"
  }
 },
 "nbformat": 4,
 "nbformat_minor": 2
}

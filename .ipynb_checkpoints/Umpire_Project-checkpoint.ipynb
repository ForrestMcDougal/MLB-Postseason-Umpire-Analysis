{
 "cells": [
  {
   "cell_type": "code",
   "execution_count": 1,
   "metadata": {},
   "outputs": [],
   "source": [
    "import pandas as pd\n",
    "import requests\n",
    "import json\n",
    "from config import api_key\n",
    "from pprint import pprint"
   ]
  },
  {
   "cell_type": "code",
   "execution_count": 2,
   "metadata": {},
   "outputs": [],
   "source": [
    "base_url = \"http://api.sportradar.us/mlb/trial/v6.5/en/games/\"\n",
    "\n",
    "game_ids = ['000023f8-e153-4dcd-9ba0-627ecc9f162e',\n",
    "         '0a408f5b-3ea6-4500-84d4-d01a56b3f3c2',\n",
    "         '0af06a7c-55e9-49e2-bf18-ba91e87f112f',\n",
    "         '0c29784b-96cf-478c-b2b4-5dc59c4dac2f',\n",
    "         '0dc994a5-3fe9-419d-a6dd-0727c01c38ef',\n",
    "         '2a747bb0-2213-4db6-8173-14a8a1060c36',\n",
    "         '37d6d617-2b4a-4c81-b257-504bbf6793ed',\n",
    "         '3caab0f7-253b-4bde-bf45-9e0838fc2118',\n",
    "         '472ad042-b1e0-4a15-93ee-34297fcfeb2d',\n",
    "         '4aaf2a8a-cab1-4085-b011-fe555e723193',\n",
    "         '560f46cd-679d-4bf6-93bb-74b322d33c17',\n",
    "         '5b58eaf5-792a-4c9f-9c83-39094d8b566e',\n",
    "         '5d1f85bd-4f87-47cc-9975-52dedd2302cc',\n",
    "         '6721b2fd-829c-472a-bb23-026068987859',\n",
    "         '6b10edd9-8a3f-4e5e-bcc5-e65de6c68cff',\n",
    "         '6b7e96c5-b7ee-449d-8756-cbb25b2ce636',\n",
    "         '7a524055-608d-45f4-9219-2e6b3ad47a0b',\n",
    "         '838f51b1-8fa9-4742-ad1c-db05ef23f9a5',\n",
    "         '84d375dc-ec1e-4bb5-9260-c018c820dad4',\n",
    "         '86a0958a-2b1b-4ba3-990d-45f3c6214611',\n",
    "         '8d55209d-2259-4463-9b90-cb17e91bc50f',\n",
    "         '8e4cb875-0d9a-417c-b686-86bbc99f6750',\n",
    "         '93fb087a-6881-4811-9fdf-e16159bb7350',\n",
    "         'a2117ef8-5f78-4c49-983a-8f86aa584ef1',\n",
    "         'cee54eb0-bd41-4183-9f68-bbbb0a68bbeb',\n",
    "         'd46f53fa-955b-4474-8728-7a60b114e2a8',\n",
    "         'dd0a0d8b-bf3b-4075-9bc3-99b207024401',\n",
    "         'e0a56cb3-a580-434c-9dfc-9fa8ce733164',\n",
    "         'e219065b-3609-4f07-9763-21ffe3e21cbe',\n",
    "         'e27b0ccb-c397-42ed-82d3-13e41f522294',\n",
    "         'e9adcd86-d854-4cab-898e-16327c9eb80a',\n",
    "         'fc33581a-938c-4881-86ff-2e1d23cc8566',\n",
    "         'ff319eaa-bde3-45af-b7da-1cfa47469c0a']"
   ]
  },
  {
   "cell_type": "code",
   "execution_count": 43,
   "metadata": {},
   "outputs": [],
   "source": [
    "pitch_urls = []\n",
    "x_coords = []\n",
    "y_coords = []\n",
    "pitch_results = []\n",
    "\n",
    "for game in game_ids:\n",
    "    query_url = base_url + game + \"/pbp.json?api_key=\" + api_key\n",
    "    pitch_urls.append(query_url)\n",
    "    response = requests.get(query_url)\n",
    "    response_json = response.json()\n",
    "    x_location = pitch_json['game']['innings'][1]['halfs'][0]['events'][0]['at_bat']['events'][0]['pitcher'][\"pitch_x\"]\n",
    "    x_coords.append(x_location)\n",
    "    y_location = pitch_json['game']['innings'][1]['halfs'][0]['events'][0]['at_bat']['events'][0]['pitcher'][\"pitch_y\"]\n",
    "    y_coords.append(y_location)\n",
    "    pitch_outcome = pitch_outcome = pitch_json['game']['innings'][1]['halfs'][0]['events'][0]['at_bat']['events'][0]['outcome_id']\n",
    "    pitch_results.append(pitch_outcome)"
   ]
  },
  {
   "cell_type": "code",
   "execution_count": 45,
   "metadata": {},
   "outputs": [
    {
     "name": "stdout",
     "output_type": "stream",
     "text": [
      "[-170, -170, -170, -170, -170, -170, -170, -170, -170, -170, -170, -170, -170, -170, -170, -170, -170, -170, -170, -170, -170, -170, -170, -170, -170, -170, -170, -170, -170, -170, -170, -170, -170]\n",
      "[-47, -47, -47, -47, -47, -47, -47, -47, -47, -47, -47, -47, -47, -47, -47, -47, -47, -47, -47, -47, -47, -47, -47, -47, -47, -47, -47, -47, -47, -47, -47, -47, -47]\n",
      "['http://api.sportradar.us/mlb/trial/v6.5/en/games/000023f8-e153-4dcd-9ba0-627ecc9f162e/pbp.json?api_key=wey5meramsznz6kcfmxmfu3p', 'http://api.sportradar.us/mlb/trial/v6.5/en/games/0a408f5b-3ea6-4500-84d4-d01a56b3f3c2/pbp.json?api_key=wey5meramsznz6kcfmxmfu3p', 'http://api.sportradar.us/mlb/trial/v6.5/en/games/0af06a7c-55e9-49e2-bf18-ba91e87f112f/pbp.json?api_key=wey5meramsznz6kcfmxmfu3p', 'http://api.sportradar.us/mlb/trial/v6.5/en/games/0c29784b-96cf-478c-b2b4-5dc59c4dac2f/pbp.json?api_key=wey5meramsznz6kcfmxmfu3p', 'http://api.sportradar.us/mlb/trial/v6.5/en/games/0dc994a5-3fe9-419d-a6dd-0727c01c38ef/pbp.json?api_key=wey5meramsznz6kcfmxmfu3p', 'http://api.sportradar.us/mlb/trial/v6.5/en/games/2a747bb0-2213-4db6-8173-14a8a1060c36/pbp.json?api_key=wey5meramsznz6kcfmxmfu3p', 'http://api.sportradar.us/mlb/trial/v6.5/en/games/37d6d617-2b4a-4c81-b257-504bbf6793ed/pbp.json?api_key=wey5meramsznz6kcfmxmfu3p', 'http://api.sportradar.us/mlb/trial/v6.5/en/games/3caab0f7-253b-4bde-bf45-9e0838fc2118/pbp.json?api_key=wey5meramsznz6kcfmxmfu3p', 'http://api.sportradar.us/mlb/trial/v6.5/en/games/472ad042-b1e0-4a15-93ee-34297fcfeb2d/pbp.json?api_key=wey5meramsznz6kcfmxmfu3p', 'http://api.sportradar.us/mlb/trial/v6.5/en/games/4aaf2a8a-cab1-4085-b011-fe555e723193/pbp.json?api_key=wey5meramsznz6kcfmxmfu3p', 'http://api.sportradar.us/mlb/trial/v6.5/en/games/560f46cd-679d-4bf6-93bb-74b322d33c17/pbp.json?api_key=wey5meramsznz6kcfmxmfu3p', 'http://api.sportradar.us/mlb/trial/v6.5/en/games/5b58eaf5-792a-4c9f-9c83-39094d8b566e/pbp.json?api_key=wey5meramsznz6kcfmxmfu3p', 'http://api.sportradar.us/mlb/trial/v6.5/en/games/5d1f85bd-4f87-47cc-9975-52dedd2302cc/pbp.json?api_key=wey5meramsznz6kcfmxmfu3p', 'http://api.sportradar.us/mlb/trial/v6.5/en/games/6721b2fd-829c-472a-bb23-026068987859/pbp.json?api_key=wey5meramsznz6kcfmxmfu3p', 'http://api.sportradar.us/mlb/trial/v6.5/en/games/6b10edd9-8a3f-4e5e-bcc5-e65de6c68cff/pbp.json?api_key=wey5meramsznz6kcfmxmfu3p', 'http://api.sportradar.us/mlb/trial/v6.5/en/games/6b7e96c5-b7ee-449d-8756-cbb25b2ce636/pbp.json?api_key=wey5meramsznz6kcfmxmfu3p', 'http://api.sportradar.us/mlb/trial/v6.5/en/games/7a524055-608d-45f4-9219-2e6b3ad47a0b/pbp.json?api_key=wey5meramsznz6kcfmxmfu3p', 'http://api.sportradar.us/mlb/trial/v6.5/en/games/838f51b1-8fa9-4742-ad1c-db05ef23f9a5/pbp.json?api_key=wey5meramsznz6kcfmxmfu3p', 'http://api.sportradar.us/mlb/trial/v6.5/en/games/84d375dc-ec1e-4bb5-9260-c018c820dad4/pbp.json?api_key=wey5meramsznz6kcfmxmfu3p', 'http://api.sportradar.us/mlb/trial/v6.5/en/games/86a0958a-2b1b-4ba3-990d-45f3c6214611/pbp.json?api_key=wey5meramsznz6kcfmxmfu3p', 'http://api.sportradar.us/mlb/trial/v6.5/en/games/8d55209d-2259-4463-9b90-cb17e91bc50f/pbp.json?api_key=wey5meramsznz6kcfmxmfu3p', 'http://api.sportradar.us/mlb/trial/v6.5/en/games/8e4cb875-0d9a-417c-b686-86bbc99f6750/pbp.json?api_key=wey5meramsznz6kcfmxmfu3p', 'http://api.sportradar.us/mlb/trial/v6.5/en/games/93fb087a-6881-4811-9fdf-e16159bb7350/pbp.json?api_key=wey5meramsznz6kcfmxmfu3p', 'http://api.sportradar.us/mlb/trial/v6.5/en/games/a2117ef8-5f78-4c49-983a-8f86aa584ef1/pbp.json?api_key=wey5meramsznz6kcfmxmfu3p', 'http://api.sportradar.us/mlb/trial/v6.5/en/games/cee54eb0-bd41-4183-9f68-bbbb0a68bbeb/pbp.json?api_key=wey5meramsznz6kcfmxmfu3p', 'http://api.sportradar.us/mlb/trial/v6.5/en/games/d46f53fa-955b-4474-8728-7a60b114e2a8/pbp.json?api_key=wey5meramsznz6kcfmxmfu3p', 'http://api.sportradar.us/mlb/trial/v6.5/en/games/dd0a0d8b-bf3b-4075-9bc3-99b207024401/pbp.json?api_key=wey5meramsznz6kcfmxmfu3p', 'http://api.sportradar.us/mlb/trial/v6.5/en/games/e0a56cb3-a580-434c-9dfc-9fa8ce733164/pbp.json?api_key=wey5meramsznz6kcfmxmfu3p', 'http://api.sportradar.us/mlb/trial/v6.5/en/games/e219065b-3609-4f07-9763-21ffe3e21cbe/pbp.json?api_key=wey5meramsznz6kcfmxmfu3p', 'http://api.sportradar.us/mlb/trial/v6.5/en/games/e27b0ccb-c397-42ed-82d3-13e41f522294/pbp.json?api_key=wey5meramsznz6kcfmxmfu3p', 'http://api.sportradar.us/mlb/trial/v6.5/en/games/e9adcd86-d854-4cab-898e-16327c9eb80a/pbp.json?api_key=wey5meramsznz6kcfmxmfu3p', 'http://api.sportradar.us/mlb/trial/v6.5/en/games/fc33581a-938c-4881-86ff-2e1d23cc8566/pbp.json?api_key=wey5meramsznz6kcfmxmfu3p', 'http://api.sportradar.us/mlb/trial/v6.5/en/games/ff319eaa-bde3-45af-b7da-1cfa47469c0a/pbp.json?api_key=wey5meramsznz6kcfmxmfu3p']\n",
      "['bB', 'bB', 'bB', 'bB', 'bB', 'bB', 'bB', 'bB', 'bB', 'bB', 'bB', 'bB', 'bB', 'bB', 'bB', 'bB', 'bB', 'bB', 'bB', 'bB', 'bB', 'bB', 'bB', 'bB', 'bB', 'bB', 'bB', 'bB', 'bB', 'bB', 'bB', 'bB', 'bB']\n"
     ]
    }
   ],
   "source": [
    "print(x_coords)\n",
    "print(y_coords)\n",
    "print(pitch_urls)\n",
    "print(pitch_results)"
   ]
  },
  {
   "cell_type": "code",
   "execution_count": 16,
   "metadata": {},
   "outputs": [
    {
     "name": "stdout",
     "output_type": "stream",
     "text": [
      "-170\n"
     ]
    }
   ],
   "source": [
    "x_location = pitch_json['game']['innings'][1]['halfs'][0]['events'][0]['at_bat']['events'][0]['pitcher'][\"pitch_x\"]\n",
    "print(x_location)"
   ]
  },
  {
   "cell_type": "code",
   "execution_count": 17,
   "metadata": {},
   "outputs": [
    {
     "name": "stdout",
     "output_type": "stream",
     "text": [
      "-47\n"
     ]
    }
   ],
   "source": [
    "y_location = pitch_json['game']['innings'][1]['halfs'][0]['events'][0]['at_bat']['events'][0]['pitcher'][\"pitch_y\"]\n",
    "print(y_location)"
   ]
  },
  {
   "cell_type": "code",
   "execution_count": 19,
   "metadata": {},
   "outputs": [
    {
     "name": "stdout",
     "output_type": "stream",
     "text": [
      "bB\n"
     ]
    }
   ],
   "source": [
    "pitch_outcome = pitch_json['game']['innings'][1]['halfs'][0]['events'][0]['at_bat']['events'][0]['outcome_id']\n",
    "print(pitch_outcome)"
   ]
  },
  {
   "cell_type": "code",
   "execution_count": null,
   "metadata": {},
   "outputs": [],
   "source": [
    "for game in game_ids:\n",
    "    query_url = base_url + game + \"/pbp.json?api_key=\" + api_key\n",
    "    pitch_urls.append(query_url)\n",
    "    response = requests.get(query_url)\n",
    "    response_json = response.json()"
   ]
  },
  {
   "cell_type": "code",
   "execution_count": 48,
   "metadata": {},
   "outputs": [
    {
     "name": "stdout",
     "output_type": "stream",
     "text": [
      "http://api.sportradar.us/mlb/trial/v6.5/en/games/000023f8-e153-4dcd-9ba0-627ecc9f162e/summary.json?api_key=wey5meramsznz6kcfmxmfu3p\n",
      "http://api.sportradar.us/mlb/trial/v6.5/en/games/0a408f5b-3ea6-4500-84d4-d01a56b3f3c2/summary.json?api_key=wey5meramsznz6kcfmxmfu3p\n",
      "http://api.sportradar.us/mlb/trial/v6.5/en/games/0af06a7c-55e9-49e2-bf18-ba91e87f112f/summary.json?api_key=wey5meramsznz6kcfmxmfu3p\n"
     ]
    },
    {
     "ename": "JSONDecodeError",
     "evalue": "Expecting value: line 1 column 1 (char 0)",
     "output_type": "error",
     "traceback": [
      "\u001b[1;31m---------------------------------------------------------------------------\u001b[0m",
      "\u001b[1;31mJSONDecodeError\u001b[0m                           Traceback (most recent call last)",
      "\u001b[1;32m<ipython-input-48-fd06a680b500>\u001b[0m in \u001b[0;36m<module>\u001b[1;34m()\u001b[0m\n\u001b[0;32m      3\u001b[0m     \u001b[0mquery_url\u001b[0m \u001b[1;33m=\u001b[0m \u001b[0mbase_url\u001b[0m \u001b[1;33m+\u001b[0m \u001b[0mgame\u001b[0m \u001b[1;33m+\u001b[0m \u001b[1;34m\"/summary.json?api_key=\"\u001b[0m \u001b[1;33m+\u001b[0m \u001b[0mapi_key\u001b[0m\u001b[1;33m\u001b[0m\u001b[0m\n\u001b[0;32m      4\u001b[0m     \u001b[0mresponse\u001b[0m \u001b[1;33m=\u001b[0m \u001b[0mrequests\u001b[0m\u001b[1;33m.\u001b[0m\u001b[0mget\u001b[0m\u001b[1;33m(\u001b[0m\u001b[0mquery_url\u001b[0m\u001b[1;33m)\u001b[0m\u001b[1;33m\u001b[0m\u001b[0m\n\u001b[1;32m----> 5\u001b[1;33m     \u001b[0mresponse_json\u001b[0m \u001b[1;33m=\u001b[0m \u001b[0mresponse\u001b[0m\u001b[1;33m.\u001b[0m\u001b[0mjson\u001b[0m\u001b[1;33m(\u001b[0m\u001b[1;33m)\u001b[0m\u001b[1;33m\u001b[0m\u001b[0m\n\u001b[0m\u001b[0;32m      6\u001b[0m     \u001b[0mprint\u001b[0m\u001b[1;33m(\u001b[0m\u001b[0mquery_url\u001b[0m\u001b[1;33m)\u001b[0m\u001b[1;33m\u001b[0m\u001b[0m\n",
      "\u001b[1;32m~\\Anaconda3\\lib\\site-packages\\requests\\models.py\u001b[0m in \u001b[0;36mjson\u001b[1;34m(self, **kwargs)\u001b[0m\n\u001b[0;32m    894\u001b[0m                     \u001b[1;31m# used.\u001b[0m\u001b[1;33m\u001b[0m\u001b[1;33m\u001b[0m\u001b[0m\n\u001b[0;32m    895\u001b[0m                     \u001b[1;32mpass\u001b[0m\u001b[1;33m\u001b[0m\u001b[0m\n\u001b[1;32m--> 896\u001b[1;33m         \u001b[1;32mreturn\u001b[0m \u001b[0mcomplexjson\u001b[0m\u001b[1;33m.\u001b[0m\u001b[0mloads\u001b[0m\u001b[1;33m(\u001b[0m\u001b[0mself\u001b[0m\u001b[1;33m.\u001b[0m\u001b[0mtext\u001b[0m\u001b[1;33m,\u001b[0m \u001b[1;33m**\u001b[0m\u001b[0mkwargs\u001b[0m\u001b[1;33m)\u001b[0m\u001b[1;33m\u001b[0m\u001b[0m\n\u001b[0m\u001b[0;32m    897\u001b[0m \u001b[1;33m\u001b[0m\u001b[0m\n\u001b[0;32m    898\u001b[0m     \u001b[1;33m@\u001b[0m\u001b[0mproperty\u001b[0m\u001b[1;33m\u001b[0m\u001b[0m\n",
      "\u001b[1;32m~\\Anaconda3\\lib\\json\\__init__.py\u001b[0m in \u001b[0;36mloads\u001b[1;34m(s, encoding, cls, object_hook, parse_float, parse_int, parse_constant, object_pairs_hook, **kw)\u001b[0m\n\u001b[0;32m    346\u001b[0m             \u001b[0mparse_int\u001b[0m \u001b[1;32mis\u001b[0m \u001b[1;32mNone\u001b[0m \u001b[1;32mand\u001b[0m \u001b[0mparse_float\u001b[0m \u001b[1;32mis\u001b[0m \u001b[1;32mNone\u001b[0m \u001b[1;32mand\u001b[0m\u001b[1;33m\u001b[0m\u001b[0m\n\u001b[0;32m    347\u001b[0m             parse_constant is None and object_pairs_hook is None and not kw):\n\u001b[1;32m--> 348\u001b[1;33m         \u001b[1;32mreturn\u001b[0m \u001b[0m_default_decoder\u001b[0m\u001b[1;33m.\u001b[0m\u001b[0mdecode\u001b[0m\u001b[1;33m(\u001b[0m\u001b[0ms\u001b[0m\u001b[1;33m)\u001b[0m\u001b[1;33m\u001b[0m\u001b[0m\n\u001b[0m\u001b[0;32m    349\u001b[0m     \u001b[1;32mif\u001b[0m \u001b[0mcls\u001b[0m \u001b[1;32mis\u001b[0m \u001b[1;32mNone\u001b[0m\u001b[1;33m:\u001b[0m\u001b[1;33m\u001b[0m\u001b[0m\n\u001b[0;32m    350\u001b[0m         \u001b[0mcls\u001b[0m \u001b[1;33m=\u001b[0m \u001b[0mJSONDecoder\u001b[0m\u001b[1;33m\u001b[0m\u001b[0m\n",
      "\u001b[1;32m~\\Anaconda3\\lib\\json\\decoder.py\u001b[0m in \u001b[0;36mdecode\u001b[1;34m(self, s, _w)\u001b[0m\n\u001b[0;32m    335\u001b[0m \u001b[1;33m\u001b[0m\u001b[0m\n\u001b[0;32m    336\u001b[0m         \"\"\"\n\u001b[1;32m--> 337\u001b[1;33m         \u001b[0mobj\u001b[0m\u001b[1;33m,\u001b[0m \u001b[0mend\u001b[0m \u001b[1;33m=\u001b[0m \u001b[0mself\u001b[0m\u001b[1;33m.\u001b[0m\u001b[0mraw_decode\u001b[0m\u001b[1;33m(\u001b[0m\u001b[0ms\u001b[0m\u001b[1;33m,\u001b[0m \u001b[0midx\u001b[0m\u001b[1;33m=\u001b[0m\u001b[0m_w\u001b[0m\u001b[1;33m(\u001b[0m\u001b[0ms\u001b[0m\u001b[1;33m,\u001b[0m \u001b[1;36m0\u001b[0m\u001b[1;33m)\u001b[0m\u001b[1;33m.\u001b[0m\u001b[0mend\u001b[0m\u001b[1;33m(\u001b[0m\u001b[1;33m)\u001b[0m\u001b[1;33m)\u001b[0m\u001b[1;33m\u001b[0m\u001b[0m\n\u001b[0m\u001b[0;32m    338\u001b[0m         \u001b[0mend\u001b[0m \u001b[1;33m=\u001b[0m \u001b[0m_w\u001b[0m\u001b[1;33m(\u001b[0m\u001b[0ms\u001b[0m\u001b[1;33m,\u001b[0m \u001b[0mend\u001b[0m\u001b[1;33m)\u001b[0m\u001b[1;33m.\u001b[0m\u001b[0mend\u001b[0m\u001b[1;33m(\u001b[0m\u001b[1;33m)\u001b[0m\u001b[1;33m\u001b[0m\u001b[0m\n\u001b[0;32m    339\u001b[0m         \u001b[1;32mif\u001b[0m \u001b[0mend\u001b[0m \u001b[1;33m!=\u001b[0m \u001b[0mlen\u001b[0m\u001b[1;33m(\u001b[0m\u001b[0ms\u001b[0m\u001b[1;33m)\u001b[0m\u001b[1;33m:\u001b[0m\u001b[1;33m\u001b[0m\u001b[0m\n",
      "\u001b[1;32m~\\Anaconda3\\lib\\json\\decoder.py\u001b[0m in \u001b[0;36mraw_decode\u001b[1;34m(self, s, idx)\u001b[0m\n\u001b[0;32m    353\u001b[0m             \u001b[0mobj\u001b[0m\u001b[1;33m,\u001b[0m \u001b[0mend\u001b[0m \u001b[1;33m=\u001b[0m \u001b[0mself\u001b[0m\u001b[1;33m.\u001b[0m\u001b[0mscan_once\u001b[0m\u001b[1;33m(\u001b[0m\u001b[0ms\u001b[0m\u001b[1;33m,\u001b[0m \u001b[0midx\u001b[0m\u001b[1;33m)\u001b[0m\u001b[1;33m\u001b[0m\u001b[0m\n\u001b[0;32m    354\u001b[0m         \u001b[1;32mexcept\u001b[0m \u001b[0mStopIteration\u001b[0m \u001b[1;32mas\u001b[0m \u001b[0merr\u001b[0m\u001b[1;33m:\u001b[0m\u001b[1;33m\u001b[0m\u001b[0m\n\u001b[1;32m--> 355\u001b[1;33m             \u001b[1;32mraise\u001b[0m \u001b[0mJSONDecodeError\u001b[0m\u001b[1;33m(\u001b[0m\u001b[1;34m\"Expecting value\"\u001b[0m\u001b[1;33m,\u001b[0m \u001b[0ms\u001b[0m\u001b[1;33m,\u001b[0m \u001b[0merr\u001b[0m\u001b[1;33m.\u001b[0m\u001b[0mvalue\u001b[0m\u001b[1;33m)\u001b[0m \u001b[1;32mfrom\u001b[0m \u001b[1;32mNone\u001b[0m\u001b[1;33m\u001b[0m\u001b[0m\n\u001b[0m\u001b[0;32m    356\u001b[0m         \u001b[1;32mreturn\u001b[0m \u001b[0mobj\u001b[0m\u001b[1;33m,\u001b[0m \u001b[0mend\u001b[0m\u001b[1;33m\u001b[0m\u001b[0m\n",
      "\u001b[1;31mJSONDecodeError\u001b[0m: Expecting value: line 1 column 1 (char 0)"
     ]
    }
   ],
   "source": [
    "umpire_url = \"https://api.sportradar.us/mlb/trial/v6.5/en/games/\"\n",
    "for game in game_ids:\n",
    "    query_url = base_url + game + \"/summary.json?api_key=\" + api_key\n",
    "    response = requests.get(query_url)\n",
    "    response_json = response.json()\n",
    "    print(query_url)\n",
    "    \n",
    "['game']['officialas'][5]['full_name']"
   ]
  },
  {
   "cell_type": "code",
   "execution_count": 49,
   "metadata": {},
   "outputs": [],
   "source": [
    "url = \"http://api.sportradar.us/mlb/trial/v6.5/en/games/000023f8-e153-4dcd-9ba0-627ecc9f162e/summary.json?api_key=wey5meramsznz6kcfmxmfu3p\"\n",
    "response = requests.get(url)\n",
    "response_json = response.json()"
   ]
  },
  {
   "cell_type": "code",
   "execution_count": 51,
   "metadata": {},
   "outputs": [
    {
     "data": {
      "text/plain": [
       "'James Hoye'"
      ]
     },
     "execution_count": 51,
     "metadata": {},
     "output_type": "execute_result"
    }
   ],
   "source": [
    "response_json['game']['officials'][5]['full_name']"
   ]
  },
  {
   "cell_type": "code",
   "execution_count": 11,
   "metadata": {
    "scrolled": true
   },
   "outputs": [
    {
     "ename": "JSONDecodeError",
     "evalue": "Expecting value: line 1 column 1 (char 0)",
     "output_type": "error",
     "traceback": [
      "\u001b[1;31m---------------------------------------------------------------------------\u001b[0m",
      "\u001b[1;31mJSONDecodeError\u001b[0m                           Traceback (most recent call last)",
      "\u001b[1;32m<ipython-input-11-63b964043ed9>\u001b[0m in \u001b[0;36m<module>\u001b[1;34m()\u001b[0m\n\u001b[0;32m      5\u001b[0m     \u001b[0mquery_url\u001b[0m \u001b[1;33m=\u001b[0m\u001b[1;33m(\u001b[0m\u001b[1;34mf'{umpire_url}{game}/summary.json?api_key={api_key}'\u001b[0m\u001b[1;33m)\u001b[0m\u001b[1;33m\u001b[0m\u001b[0m\n\u001b[0;32m      6\u001b[0m     \u001b[0mresponse\u001b[0m \u001b[1;33m=\u001b[0m \u001b[0mrequests\u001b[0m\u001b[1;33m.\u001b[0m\u001b[0mget\u001b[0m\u001b[1;33m(\u001b[0m\u001b[0mquery_url\u001b[0m\u001b[1;33m)\u001b[0m\u001b[1;33m\u001b[0m\u001b[0m\n\u001b[1;32m----> 7\u001b[1;33m     \u001b[0mresponse_json\u001b[0m \u001b[1;33m=\u001b[0m \u001b[0mresponse\u001b[0m\u001b[1;33m.\u001b[0m\u001b[0mjson\u001b[0m\u001b[1;33m(\u001b[0m\u001b[1;33m)\u001b[0m\u001b[1;33m\u001b[0m\u001b[0m\n\u001b[0m\u001b[0;32m      8\u001b[0m     \u001b[1;32mfor\u001b[0m \u001b[0mi\u001b[0m \u001b[1;32min\u001b[0m \u001b[0mrange\u001b[0m \u001b[1;33m(\u001b[0m\u001b[1;36m0\u001b[0m\u001b[1;33m,\u001b[0m\u001b[1;36m5\u001b[0m\u001b[1;33m)\u001b[0m\u001b[1;33m:\u001b[0m\u001b[1;33m\u001b[0m\u001b[0m\n\u001b[0;32m      9\u001b[0m         \u001b[1;32mif\u001b[0m \u001b[1;33m(\u001b[0m\u001b[0mresponse_json\u001b[0m\u001b[1;33m[\u001b[0m\u001b[1;34m'game'\u001b[0m\u001b[1;33m]\u001b[0m\u001b[1;33m[\u001b[0m\u001b[1;34m'officials'\u001b[0m\u001b[1;33m]\u001b[0m\u001b[1;33m[\u001b[0m\u001b[0mi\u001b[0m\u001b[1;33m]\u001b[0m\u001b[1;33m)\u001b[0m \u001b[1;33m==\u001b[0m \u001b[1;34m\"HP\"\u001b[0m\u001b[1;33m:\u001b[0m\u001b[1;33m\u001b[0m\u001b[0m\n",
      "\u001b[1;32m~\\Anaconda3\\lib\\site-packages\\requests\\models.py\u001b[0m in \u001b[0;36mjson\u001b[1;34m(self, **kwargs)\u001b[0m\n\u001b[0;32m    894\u001b[0m                     \u001b[1;31m# used.\u001b[0m\u001b[1;33m\u001b[0m\u001b[1;33m\u001b[0m\u001b[0m\n\u001b[0;32m    895\u001b[0m                     \u001b[1;32mpass\u001b[0m\u001b[1;33m\u001b[0m\u001b[0m\n\u001b[1;32m--> 896\u001b[1;33m         \u001b[1;32mreturn\u001b[0m \u001b[0mcomplexjson\u001b[0m\u001b[1;33m.\u001b[0m\u001b[0mloads\u001b[0m\u001b[1;33m(\u001b[0m\u001b[0mself\u001b[0m\u001b[1;33m.\u001b[0m\u001b[0mtext\u001b[0m\u001b[1;33m,\u001b[0m \u001b[1;33m**\u001b[0m\u001b[0mkwargs\u001b[0m\u001b[1;33m)\u001b[0m\u001b[1;33m\u001b[0m\u001b[0m\n\u001b[0m\u001b[0;32m    897\u001b[0m \u001b[1;33m\u001b[0m\u001b[0m\n\u001b[0;32m    898\u001b[0m     \u001b[1;33m@\u001b[0m\u001b[0mproperty\u001b[0m\u001b[1;33m\u001b[0m\u001b[0m\n",
      "\u001b[1;32m~\\Anaconda3\\lib\\json\\__init__.py\u001b[0m in \u001b[0;36mloads\u001b[1;34m(s, encoding, cls, object_hook, parse_float, parse_int, parse_constant, object_pairs_hook, **kw)\u001b[0m\n\u001b[0;32m    346\u001b[0m             \u001b[0mparse_int\u001b[0m \u001b[1;32mis\u001b[0m \u001b[1;32mNone\u001b[0m \u001b[1;32mand\u001b[0m \u001b[0mparse_float\u001b[0m \u001b[1;32mis\u001b[0m \u001b[1;32mNone\u001b[0m \u001b[1;32mand\u001b[0m\u001b[1;33m\u001b[0m\u001b[0m\n\u001b[0;32m    347\u001b[0m             parse_constant is None and object_pairs_hook is None and not kw):\n\u001b[1;32m--> 348\u001b[1;33m         \u001b[1;32mreturn\u001b[0m \u001b[0m_default_decoder\u001b[0m\u001b[1;33m.\u001b[0m\u001b[0mdecode\u001b[0m\u001b[1;33m(\u001b[0m\u001b[0ms\u001b[0m\u001b[1;33m)\u001b[0m\u001b[1;33m\u001b[0m\u001b[0m\n\u001b[0m\u001b[0;32m    349\u001b[0m     \u001b[1;32mif\u001b[0m \u001b[0mcls\u001b[0m \u001b[1;32mis\u001b[0m \u001b[1;32mNone\u001b[0m\u001b[1;33m:\u001b[0m\u001b[1;33m\u001b[0m\u001b[0m\n\u001b[0;32m    350\u001b[0m         \u001b[0mcls\u001b[0m \u001b[1;33m=\u001b[0m \u001b[0mJSONDecoder\u001b[0m\u001b[1;33m\u001b[0m\u001b[0m\n",
      "\u001b[1;32m~\\Anaconda3\\lib\\json\\decoder.py\u001b[0m in \u001b[0;36mdecode\u001b[1;34m(self, s, _w)\u001b[0m\n\u001b[0;32m    335\u001b[0m \u001b[1;33m\u001b[0m\u001b[0m\n\u001b[0;32m    336\u001b[0m         \"\"\"\n\u001b[1;32m--> 337\u001b[1;33m         \u001b[0mobj\u001b[0m\u001b[1;33m,\u001b[0m \u001b[0mend\u001b[0m \u001b[1;33m=\u001b[0m \u001b[0mself\u001b[0m\u001b[1;33m.\u001b[0m\u001b[0mraw_decode\u001b[0m\u001b[1;33m(\u001b[0m\u001b[0ms\u001b[0m\u001b[1;33m,\u001b[0m \u001b[0midx\u001b[0m\u001b[1;33m=\u001b[0m\u001b[0m_w\u001b[0m\u001b[1;33m(\u001b[0m\u001b[0ms\u001b[0m\u001b[1;33m,\u001b[0m \u001b[1;36m0\u001b[0m\u001b[1;33m)\u001b[0m\u001b[1;33m.\u001b[0m\u001b[0mend\u001b[0m\u001b[1;33m(\u001b[0m\u001b[1;33m)\u001b[0m\u001b[1;33m)\u001b[0m\u001b[1;33m\u001b[0m\u001b[0m\n\u001b[0m\u001b[0;32m    338\u001b[0m         \u001b[0mend\u001b[0m \u001b[1;33m=\u001b[0m \u001b[0m_w\u001b[0m\u001b[1;33m(\u001b[0m\u001b[0ms\u001b[0m\u001b[1;33m,\u001b[0m \u001b[0mend\u001b[0m\u001b[1;33m)\u001b[0m\u001b[1;33m.\u001b[0m\u001b[0mend\u001b[0m\u001b[1;33m(\u001b[0m\u001b[1;33m)\u001b[0m\u001b[1;33m\u001b[0m\u001b[0m\n\u001b[0;32m    339\u001b[0m         \u001b[1;32mif\u001b[0m \u001b[0mend\u001b[0m \u001b[1;33m!=\u001b[0m \u001b[0mlen\u001b[0m\u001b[1;33m(\u001b[0m\u001b[0ms\u001b[0m\u001b[1;33m)\u001b[0m\u001b[1;33m:\u001b[0m\u001b[1;33m\u001b[0m\u001b[0m\n",
      "\u001b[1;32m~\\Anaconda3\\lib\\json\\decoder.py\u001b[0m in \u001b[0;36mraw_decode\u001b[1;34m(self, s, idx)\u001b[0m\n\u001b[0;32m    353\u001b[0m             \u001b[0mobj\u001b[0m\u001b[1;33m,\u001b[0m \u001b[0mend\u001b[0m \u001b[1;33m=\u001b[0m \u001b[0mself\u001b[0m\u001b[1;33m.\u001b[0m\u001b[0mscan_once\u001b[0m\u001b[1;33m(\u001b[0m\u001b[0ms\u001b[0m\u001b[1;33m,\u001b[0m \u001b[0midx\u001b[0m\u001b[1;33m)\u001b[0m\u001b[1;33m\u001b[0m\u001b[0m\n\u001b[0;32m    354\u001b[0m         \u001b[1;32mexcept\u001b[0m \u001b[0mStopIteration\u001b[0m \u001b[1;32mas\u001b[0m \u001b[0merr\u001b[0m\u001b[1;33m:\u001b[0m\u001b[1;33m\u001b[0m\u001b[0m\n\u001b[1;32m--> 355\u001b[1;33m             \u001b[1;32mraise\u001b[0m \u001b[0mJSONDecodeError\u001b[0m\u001b[1;33m(\u001b[0m\u001b[1;34m\"Expecting value\"\u001b[0m\u001b[1;33m,\u001b[0m \u001b[0ms\u001b[0m\u001b[1;33m,\u001b[0m \u001b[0merr\u001b[0m\u001b[1;33m.\u001b[0m\u001b[0mvalue\u001b[0m\u001b[1;33m)\u001b[0m \u001b[1;32mfrom\u001b[0m \u001b[1;32mNone\u001b[0m\u001b[1;33m\u001b[0m\u001b[0m\n\u001b[0m\u001b[0;32m    356\u001b[0m         \u001b[1;32mreturn\u001b[0m \u001b[0mobj\u001b[0m\u001b[1;33m,\u001b[0m \u001b[0mend\u001b[0m\u001b[1;33m\u001b[0m\u001b[0m\n",
      "\u001b[1;31mJSONDecodeError\u001b[0m: Expecting value: line 1 column 1 (char 0)"
     ]
    }
   ],
   "source": [
    "umpire_url = \"https://api.sportradar.us/mlb/trial/v6.5/en/games/\"\n",
    "umpires = []\n",
    "\n",
    "for game in game_ids:\n",
    "    query_url =(f'{umpire_url}{game}/summary.json?api_key={api_key}')\n",
    "    response = requests.get(query_url)\n",
    "    response_json = response.json()\n",
    "    for i in range (0,5):\n",
    "        if (response_json['game']['officials'][i]) == \"HP\":\n",
    "            umpires.appned(response_json['game']['officials'][i]['full_name'])"
   ]
  },
  {
   "cell_type": "code",
   "execution_count": 10,
   "metadata": {},
   "outputs": [
    {
     "name": "stdout",
     "output_type": "stream",
     "text": [
      "https://api.sportradar.us/mlb/trial/v6.5/en/games/000023f8-e153-4dcd-9ba0-627ecc9f162e/summary.json?api_key=wey5meramsznz6kcfmxmfu3p\n"
     ]
    }
   ],
   "source": [
    "print(f'{umpire_url}000023f8-e153-4dcd-9ba0-627ecc9f162e/summary.json?api_key={api_key}')"
   ]
  },
  {
   "cell_type": "code",
   "execution_count": null,
   "metadata": {},
   "outputs": [],
   "source": []
  }
 ],
 "metadata": {
  "kernelspec": {
   "display_name": "Python 3",
   "language": "python",
   "name": "python3"
  },
  "language_info": {
   "codemirror_mode": {
    "name": "ipython",
    "version": 3
   },
   "file_extension": ".py",
   "mimetype": "text/x-python",
   "name": "python",
   "nbconvert_exporter": "python",
   "pygments_lexer": "ipython3",
   "version": "3.7.0"
  }
 },
 "nbformat": 4,
 "nbformat_minor": 2
}

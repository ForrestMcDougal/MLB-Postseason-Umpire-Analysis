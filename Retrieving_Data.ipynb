{
 "cells": [
  {
   "cell_type": "code",
   "execution_count": 2,
   "metadata": {},
   "outputs": [],
   "source": [
    "import requests\n",
    "import csv\n",
    "import time\n",
    "import json\n",
    "from config import api_key\n",
    "\n",
    "from postseason_games import games\n",
    "from get_data import get_umpire, get_game_by_id"
   ]
  },
  {
   "cell_type": "code",
   "execution_count": 3,
   "metadata": {},
   "outputs": [],
   "source": [
    "outcome_ids = [\"kKL\", \"bB\", \"aKLAD1\", \"aKLAD2\", \"aKLAD3\", \"aKLAD4\", \"oKLT1\", \"oKLT2\", \"oKLT3\", \"oKLT4\"]\n",
    "\n",
    "csv_header = [\"Umpire\", \"Game_ID\", \"Home/Away\", \"Called Ball/Strike\", \"Pitch_X\", \"Pitch_Y\", \"Pitcher_Hand\", \n",
    "              \"Batter_Hand\", \"Pitch Type\", \"Pitch Speed\"]"
   ]
  },
  {
   "cell_type": "code",
   "execution_count": 4,
   "metadata": {},
   "outputs": [
    {
     "name": "stdout",
     "output_type": "stream",
     "text": [
      "000023f8-e153-4dcd-9ba0-627ecc9f162e\n",
      "0a408f5b-3ea6-4500-84d4-d01a56b3f3c2\n",
      "0af06a7c-55e9-49e2-bf18-ba91e87f112f\n",
      "0c29784b-96cf-478c-b2b4-5dc59c4dac2f\n",
      "0dc994a5-3fe9-419d-a6dd-0727c01c38ef\n",
      "2a747bb0-2213-4db6-8173-14a8a1060c36\n",
      "37d6d617-2b4a-4c81-b257-504bbf6793ed\n",
      "3caab0f7-253b-4bde-bf45-9e0838fc2118\n",
      "472ad042-b1e0-4a15-93ee-34297fcfeb2d\n",
      "4aaf2a8a-cab1-4085-b011-fe555e723193\n",
      "560f46cd-679d-4bf6-93bb-74b322d33c17\n",
      "5b58eaf5-792a-4c9f-9c83-39094d8b566e\n",
      "5d1f85bd-4f87-47cc-9975-52dedd2302cc\n",
      "6721b2fd-829c-472a-bb23-026068987859\n",
      "6b10edd9-8a3f-4e5e-bcc5-e65de6c68cff\n",
      "6b7e96c5-b7ee-449d-8756-cbb25b2ce636\n",
      "7a524055-608d-45f4-9219-2e6b3ad47a0b\n",
      "838f51b1-8fa9-4742-ad1c-db05ef23f9a5\n",
      "84d375dc-ec1e-4bb5-9260-c018c820dad4\n",
      "86a0958a-2b1b-4ba3-990d-45f3c6214611\n",
      "8d55209d-2259-4463-9b90-cb17e91bc50f\n",
      "8e4cb875-0d9a-417c-b686-86bbc99f6750\n",
      "93fb087a-6881-4811-9fdf-e16159bb7350\n",
      "a2117ef8-5f78-4c49-983a-8f86aa584ef1\n",
      "cee54eb0-bd41-4183-9f68-bbbb0a68bbeb\n",
      "d46f53fa-955b-4474-8728-7a60b114e2a8\n",
      "dd0a0d8b-bf3b-4075-9bc3-99b207024401\n",
      "e0a56cb3-a580-434c-9dfc-9fa8ce733164\n",
      "e219065b-3609-4f07-9763-21ffe3e21cbe\n",
      "e27b0ccb-c397-42ed-82d3-13e41f522294\n",
      "e9adcd86-d854-4cab-898e-16327c9eb80a\n",
      "fc33581a-938c-4881-86ff-2e1d23cc8566\n",
      "ff319eaa-bde3-45af-b7da-1cfa47469c0a\n",
      "done\n"
     ]
    }
   ],
   "source": [
    "# pitches that are called ball or strike\n",
    "outcome_ids = ['kKL', 'bB', 'aKLAD1', 'aKLAD2', 'aKLAD3', 'aKLAD4', 'oKLT1', 'oKLT2', 'oKLT3', 'oKLT4']\n",
    "csv_header = ['Umpire', 'Game_ID', 'Home/Away', 'Called Ball/Strike', 'Pitch_X', 'Pitch_Y', 'Pitcher_Hand',\n",
    "              'Batter_Hand', 'Pitch_Type', 'Pitch_Speed']\n",
    "\n",
    "with open('Resources/pitch_data.csv', 'w', newline='') as fout:\n",
    "    csvwriter = csv.writer(fout, delimiter=',')\n",
    "    csvwriter.writerow(csv_header)\n",
    "    for game in games:\n",
    "        print(game)\n",
    "        time.sleep(1.1)\n",
    "        game_json = get_game_by_id(game, api_key)\n",
    "        time.sleep(1.1)\n",
    "        umpire = get_umpire(game, api_key)\n",
    "        for inning in game_json['game']['innings'][1:]:\n",
    "            for half in inning['halfs']:\n",
    "                t_b = half['half']\n",
    "                if t_b == 'T':\n",
    "                    t_b = 'Away'\n",
    "                else:\n",
    "                    t_b = 'Home'\n",
    "                for event in half['events']:\n",
    "                    try:\n",
    "                        for pitch in event['at_bat']['events']:\n",
    "                            if pitch['outcome_id'] in outcome_ids:\n",
    "                                if pitch['outcome_id'] == 'bB':\n",
    "                                    call = 'Ball'\n",
    "                                else:\n",
    "                                    call = 'Strike'\n",
    "                                pitch_type = pitch['pitcher']['pitch_type']\n",
    "                                pitch_speed = pitch['pitcher']['pitch_speed']\n",
    "                                pitcher_hand = pitch['pitcher']['pitcher_hand']\n",
    "                                batter_hand = pitch['pitcher']['hitter_hand']\n",
    "                                pitch_x = pitch['pitcher']['pitch_x']\n",
    "                                pitch_y = pitch['pitcher']['pitch_y']\n",
    "                                csvwriter.writerow([umpire, game, t_b, call, pitch_x, pitch_y, pitcher_hand,\n",
    "                                                    batter_hand, pitch_type, pitch_speed])\n",
    "                    except:\n",
    "                        pass\n",
    "                            \n",
    "print('done')"
   ]
  },
  {
   "cell_type": "code",
   "execution_count": 5,
   "metadata": {},
   "outputs": [
    {
     "data": {
      "text/plain": [
       "33"
      ]
     },
     "execution_count": 5,
     "metadata": {},
     "output_type": "execute_result"
    }
   ],
   "source": [
    "import pandas as pd\n",
    "df = pd.read_csv(\"Resources/pitch_data.csv\")\n",
    "len(df['Game_ID'].unique())"
   ]
  },
  {
   "cell_type": "code",
   "execution_count": null,
   "metadata": {},
   "outputs": [],
   "source": []
  }
 ],
 "metadata": {
  "kernelspec": {
   "display_name": "Python 3",
   "language": "python",
   "name": "python3"
  },
  "language_info": {
   "codemirror_mode": {
    "name": "ipython",
    "version": 3
   },
   "file_extension": ".py",
   "mimetype": "text/x-python",
   "name": "python",
   "nbconvert_exporter": "python",
   "pygments_lexer": "ipython3",
   "version": "3.7.0"
  }
 },
 "nbformat": 4,
 "nbformat_minor": 2
}

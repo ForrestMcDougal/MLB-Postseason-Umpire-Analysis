{
 "cells": [
  {
   "cell_type": "code",
   "execution_count": null,
   "metadata": {},
   "outputs": [],
   "source": [
    "import requests\n",
    "import pandas as pd\n",
    "from get_data import get_umpire, get_game_by_id"
   ]
  },
  {
   "cell_type": "code",
   "execution_count": null,
   "metadata": {},
   "outputs": [],
   "source": [
    "# def get_umpire(game_id, api_key):\n",
    "#     umpire_url = f'http://api.sportradar.us/mlb/trial/v6.5/en/games/{game_id}/summary.json?api_key={api_key}'\n",
    "#     resp = requests.get(umpire_url).json()\n",
    "#     officials = resp['game']['officials']\n",
    "#     for official in officials:\n",
    "#         if official['assignment'] == 'HP':\n",
    "#             return official['full_name']"
   ]
  },
  {
   "cell_type": "code",
   "execution_count": null,
   "metadata": {},
   "outputs": [],
   "source": [
    "# def get_game_by_id(game_id, api_key):\n",
    "#     game_url = f'http://api.sportradar.us//mlb/trial/v6.5/en/games/{game_id}/pbp.json?api_key={api_key}'\n",
    "#     game_resp = requests.get(game_url).json()\n",
    "#     return game_resp"
   ]
  },
  {
   "cell_type": "code",
   "execution_count": null,
   "metadata": {},
   "outputs": [],
   "source": [
    "#http://api.sportradar.us/mlb/trial/v6.5/en/games/{game_id}/summary.json?api_key={api_key}"
   ]
  },
  {
   "cell_type": "code",
   "execution_count": null,
   "metadata": {},
   "outputs": [],
   "source": []
  },
  {
   "cell_type": "code",
   "execution_count": null,
   "metadata": {},
   "outputs": [],
   "source": [
    "#Steps to access info\n",
    "\n",
    "response['game']['id'] = ID\n",
    "\n",
    "response['game']['innings'][1] = 'inning #1 info'\n",
    "\n",
    "response['game']['innings'][2] = 'inning #2 info'\n",
    "\n",
    "response['game']['innings'][1]['halfs'][0] = 'inning #1 top(0) of the inning info'\n",
    "\n",
    "response['game']['innings'][1]['halfs'][1] = 'inning #1 bottom(1) of the inning info'\n",
    "\n",
    "response['game']['innings'][1]['halfs'][1]['events'] = 'list of events for bottom of the 1st inning'\n",
    "\n",
    "response['game']['innings'][1]['halfs'][1]['events'][0] = 'dictionary of details for first event in bottom of the 1st inning'\n",
    "\n",
    "response['game']['innings'][1]['halfs'][1]['events'][0]['at_bat'] = 'the at bat info for the first'\n",
    "\n",
    "\n"
   ]
  },
  {
   "cell_type": "code",
   "execution_count": null,
   "metadata": {},
   "outputs": [],
   "source": []
  }
 ],
 "metadata": {
  "kernelspec": {
   "display_name": "Python 3",
   "language": "python",
   "name": "python3"
  },
  "language_info": {
   "codemirror_mode": {
    "name": "ipython",
    "version": 3
   },
   "file_extension": ".py",
   "mimetype": "text/x-python",
   "name": "python",
   "nbconvert_exporter": "python",
   "pygments_lexer": "ipython3",
   "version": "3.7.0"
  }
 },
 "nbformat": 4,
 "nbformat_minor": 2
}

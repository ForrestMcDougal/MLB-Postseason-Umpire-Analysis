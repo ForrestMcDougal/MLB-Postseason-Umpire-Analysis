{
 "cells": [
  {
   "cell_type": "code",
   "execution_count": 1,
   "metadata": {},
   "outputs": [],
   "source": [
    "# Import Dependencies\n",
    "%matplotlib inline\n",
    "import pandas as pd\n",
    "import requests\n",
    "import json\n",
    "from pprint import pprint\n",
    "import random\n",
    "import matplotlib.pyplot as plt\n",
    "import numpy as np\n",
    "\n",
    "import numpy as np\n",
    "from matplotlib.path import Path\n",
    "from matplotlib.patches import PathPatch\n",
    "# import matplotlib.patches as patches\n",
    "\n",
    "# from config import api_key"
   ]
  },
  {
   "cell_type": "code",
   "execution_count": 10,
   "metadata": {},
   "outputs": [
    {
     "ename": "AttributeError",
     "evalue": "type object 'PathPatch' has no attribute 'Rectangle'",
     "output_type": "error",
     "traceback": [
      "\u001b[1;31m---------------------------------------------------------------------------\u001b[0m",
      "\u001b[1;31mAttributeError\u001b[0m                            Traceback (most recent call last)",
      "\u001b[1;32m<ipython-input-10-43cec3d1ae40>\u001b[0m in \u001b[0;36m<module>\u001b[1;34m()\u001b[0m\n\u001b[0;32m     60\u001b[0m \u001b[1;31m# put a box in to show the strike zone try 3\u001b[0m\u001b[1;33m\u001b[0m\u001b[1;33m\u001b[0m\u001b[0m\n\u001b[0;32m     61\u001b[0m \u001b[1;31m# Create a Rectangle patch\u001b[0m\u001b[1;33m\u001b[0m\u001b[1;33m\u001b[0m\u001b[0m\n\u001b[1;32m---> 62\u001b[1;33m \u001b[0mrect\u001b[0m \u001b[1;33m=\u001b[0m \u001b[0mPathPatch\u001b[0m\u001b[1;33m.\u001b[0m\u001b[0mRectangle\u001b[0m\u001b[1;33m(\u001b[0m\u001b[1;33m(\u001b[0m\u001b[1;33m-\u001b[0m\u001b[1;36m100\u001b[0m\u001b[1;33m,\u001b[0m\u001b[1;33m-\u001b[0m\u001b[1;36m100\u001b[0m\u001b[1;33m)\u001b[0m\u001b[1;33m,\u001b[0m\u001b[1;36m200\u001b[0m\u001b[1;33m,\u001b[0m\u001b[1;36m200\u001b[0m\u001b[1;33m,\u001b[0m\u001b[0mlinewidth\u001b[0m\u001b[1;33m=\u001b[0m\u001b[1;36m1\u001b[0m\u001b[1;33m,\u001b[0m\u001b[0medgecolor\u001b[0m\u001b[1;33m=\u001b[0m\u001b[1;34m'b'\u001b[0m\u001b[1;33m,\u001b[0m\u001b[0mfacecolor\u001b[0m\u001b[1;33m=\u001b[0m\u001b[1;34m'none'\u001b[0m\u001b[1;33m)\u001b[0m\u001b[1;33m\u001b[0m\u001b[0m\n\u001b[0m\u001b[0;32m     63\u001b[0m \u001b[1;31m# Add the patch to the Axes\u001b[0m\u001b[1;33m\u001b[0m\u001b[1;33m\u001b[0m\u001b[0m\n\u001b[0;32m     64\u001b[0m \u001b[0mplt\u001b[0m\u001b[1;33m.\u001b[0m\u001b[0madd_patch\u001b[0m\u001b[1;33m(\u001b[0m\u001b[0mrect\u001b[0m\u001b[1;33m)\u001b[0m\u001b[1;33m\u001b[0m\u001b[0m\n",
      "\u001b[1;31mAttributeError\u001b[0m: type object 'PathPatch' has no attribute 'Rectangle'"
     ]
    },
    {
     "data": {
      "image/png": "[encoded data removed]",
      "text/plain": [
       "<Figure size 432x288 with 1 Axes>"
      ]
     },
     "metadata": {
      "needs_background": "light"
     },
     "output_type": "display_data"
    }
   ],
   "source": [
    "# CHART VALUES\n",
    "# Chart will be from -300 to 300 for both X and Y\n",
    "plt.ylim(-300,300)\n",
    "plt.xlim(-300,300)\n",
    "\n",
    "# get the pitch data\n",
    "# x_axisbB = ball_df[\"pitch_x_bB\"]\n",
    "# y_axisbB = ball_df[\"pitch_y_bB\"]\n",
    "# x_axiskKL= strike_df[\"pitch_x_kKL\"]\n",
    "# y_axiskKL = strike_df[\"pitch_y_kKL\"]\n",
    "\n",
    "# set plots and the colors\n",
    "# ball = plt.scatter(x_axisbB, y_axisbB, marker=\"o\", facecolors=\"green\",edgecolors=\"black\", s=10*dcu, alpha=0.75)\n",
    "# strike = plt.scatter(x_axiskKL, y_axiskKL, marker=\"o\", facecolors=\"red\",edgecolors=\"black\", s=10*dcu, alpha=0.75)\n",
    "\n",
    "# plt.grid()\n",
    "plt.axvline(0, color=\"k\", linestyle=\"--\")\n",
    "plt.axvline(-100, color=\"k\", linestyle=\"--\")\n",
    "plt.axvline(100, color=\"k\", linestyle=\"--\")\n",
    "# g.map(plt.axhline, y=0.1, color=\"k\", ls=\":\")\n",
    "# plt.ayvline(0, color=\"k\", linestyle=\"--\")\n",
    "# plt.ayvline(-100, color=\"k\", linestyle=\"--\")\n",
    "# plt.ayvline(100, color=\"k\", linestyle=\"--\")\n",
    "\n",
    "# add the titleing (not the the \\n is like a ^p for the text)\n",
    "plt.title(\"title\")\n",
    "plt.xlabel(\"x lable\")\n",
    "plt.ylabel(\"y lable\")\n",
    "# We might want to put a note to the side so this is a placeholder\n",
    "# plt.text(42, 35, \"Note: \\nThe note goes here.\")\n",
    "\n",
    "# create and size the ledgend\n",
    "lgnd= plt.legend([\"Ball\", \"Strike\"], loc=1, markerscale = .5, title=\"Pitch Type\")\n",
    "# this part adds the pitch types, and makes all the dots in the legond the same size\n",
    "# lgnd.legendHandles[0]._sizes = [30]\n",
    "# lgnd.legendHandles[1]._sizes = [30]\n",
    "\n",
    "# put a box in to show the strike zone\n",
    "# plt.text(0.0, 0.0, \"strike zone\", size=10, rotation=0.,\n",
    "#          ha=\"right\", va=\"top\",\n",
    "#          bbox=dict(boxstyle=\"square\",\n",
    "#                    ec=(1., 0.5, 0.5),\n",
    "#                    fc=(1., 0.8, 0.8),\n",
    "#                    )\n",
    "#          )\n",
    "x = [-100, -100, 100, 100, -100]\n",
    "y = [100, -100, -100, 100, 100]\n",
    "# x = [2, 2, 3, 3, 2]\n",
    "# y = [3, 2, 2, 3, 3]\n",
    "plt.plot(x, y)\n",
    "\n",
    "# put a box in to show the strike zone try 2\n",
    "# vertices = []\n",
    "# codes = []\n",
    "# codes = [Path.MOVETO] + [Path.LINETO]*3 + [Path.CLOSEPOLY]\n",
    "# vertices = [(-100, -100), (-100, 100), (100, 100), (100, -100), (0,0)]\n",
    "# vertices = [(-100, -100), (100, 100), (2, 2), (2, 1), (0, 0)]\n",
    "# vertices = [(1, 1), (1, 2), (2, 2), (2, 1), (0, 0)]\n",
    "\n",
    "# put a box in to show the strike zone try 3\n",
    "# Create a Rectangle patch\n",
    "rect = PathPatch.Rectangle((-100,-100),200,200,linewidth=1,edgecolor='b',facecolor='none')\n",
    "# Add the patch to the Axes\n",
    "plt.add_patch(rect)\n",
    "\n",
    "\n",
    "#save the file\n",
    "# plt.savefig(\"../Images/image_name.png\", bbox_inches=\"tight\")"
   ]
  },
  {
   "cell_type": "code",
   "execution_count": null,
   "metadata": {},
   "outputs": [],
   "source": [
    "# Show plot\n",
    "plt.show()"
   ]
  },
  {
   "cell_type": "code",
   "execution_count": 7,
   "metadata": {},
   "outputs": [
    {
     "data": {
      "image/png": "[encoded data removed]",
      "text/plain": [
       "<Figure size 432x288 with 1 Axes>"
      ]
     },
     "metadata": {
      "needs_background": "light"
     },
     "output_type": "display_data"
    }
   ],
   "source": [
    "a = [1, 2, 3, 4]\n",
    "b = [1, 2, 3, 4]\n",
    "x = [2, 2, 3, 3, 2]\n",
    "y = [3, 2, 2, 3, 3]\n",
    "\n",
    "plt.scatter(x=a, y=b)\n",
    "plt.plot(x, y)\n",
    "plt.show()"
   ]
  },
  {
   "cell_type": "code",
   "execution_count": null,
   "metadata": {},
   "outputs": [],
   "source": []
  }
 ],
 "metadata": {
  "kernelspec": {
   "display_name": "Python 3",
   "language": "python",
   "name": "python3"
  },
  "language_info": {
   "codemirror_mode": {
    "name": "ipython",
    "version": 3
   },
   "file_extension": ".py",
   "mimetype": "text/x-python",
   "name": "python",
   "nbconvert_exporter": "python",
   "pygments_lexer": "ipython3",
   "version": "3.6.6"
  }
 },
 "nbformat": 4,
 "nbformat_minor": 2
}

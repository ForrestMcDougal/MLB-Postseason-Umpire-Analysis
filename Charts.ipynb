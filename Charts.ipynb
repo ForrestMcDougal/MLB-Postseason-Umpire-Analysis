{
 "cells": [
  {
   "cell_type": "code",
   "execution_count": 1,
   "metadata": {},
   "outputs": [],
   "source": [
    "# Import Dependencies\n",
    "%matplotlib inline\n",
    "import pandas as pd\n",
    "import requests\n",
    "import json\n",
    "from pprint import pprint\n",
    "import random\n",
    "import matplotlib.pyplot as plt\n",
    "import numpy as np\n",
    "\n",
    "import numpy as np\n",
    "from matplotlib.path import Path\n",
    "from matplotlib.patches import PathPatch\n",
    "# import matplotlib.patches as patches\n",
    "\n",
    "# from config import api_key"
   ]
  },
  {
   "cell_type": "code",
   "execution_count": 14,
   "metadata": {},
   "outputs": [
    {
     "data": {
      "text/html": [
       "<div>\n",
       "<style scoped>\n",
       "    .dataframe tbody tr th:only-of-type {\n",
       "        vertical-align: middle;\n",
       "    }\n",
       "\n",
       "    .dataframe tbody tr th {\n",
       "        vertical-align: top;\n",
       "    }\n",
       "\n",
       "    .dataframe thead th {\n",
       "        text-align: right;\n",
       "    }\n",
       "</style>\n",
       "<table border=\"1\" class=\"dataframe\">\n",
       "  <thead>\n",
       "    <tr style=\"text-align: right;\">\n",
       "      <th></th>\n",
       "      <th>Umpire</th>\n",
       "      <th>Game_ID</th>\n",
       "      <th>Home/Away</th>\n",
       "      <th>Called Ball/Strike</th>\n",
       "      <th>Pitch_X</th>\n",
       "      <th>Pitch_Y</th>\n",
       "      <th>Pitcher_Hand</th>\n",
       "      <th>Batter_Hand</th>\n",
       "      <th>Pitch_Type</th>\n",
       "      <th>Pitch_Speed</th>\n",
       "    </tr>\n",
       "  </thead>\n",
       "  <tbody>\n",
       "    <tr>\n",
       "      <th>0</th>\n",
       "      <td>James Hoye</td>\n",
       "      <td>000023f8-e153-4dcd-9ba0-627ecc9f162e</td>\n",
       "      <td>Away</td>\n",
       "      <td>Ball</td>\n",
       "      <td>-170</td>\n",
       "      <td>-47</td>\n",
       "      <td>L</td>\n",
       "      <td>R</td>\n",
       "      <td>FA</td>\n",
       "      <td>91.0</td>\n",
       "    </tr>\n",
       "    <tr>\n",
       "      <th>1</th>\n",
       "      <td>James Hoye</td>\n",
       "      <td>000023f8-e153-4dcd-9ba0-627ecc9f162e</td>\n",
       "      <td>Away</td>\n",
       "      <td>Strike</td>\n",
       "      <td>82</td>\n",
       "      <td>-21</td>\n",
       "      <td>L</td>\n",
       "      <td>R</td>\n",
       "      <td>FA</td>\n",
       "      <td>89.0</td>\n",
       "    </tr>\n",
       "    <tr>\n",
       "      <th>2</th>\n",
       "      <td>James Hoye</td>\n",
       "      <td>000023f8-e153-4dcd-9ba0-627ecc9f162e</td>\n",
       "      <td>Away</td>\n",
       "      <td>Ball</td>\n",
       "      <td>41</td>\n",
       "      <td>152</td>\n",
       "      <td>L</td>\n",
       "      <td>R</td>\n",
       "      <td>FA</td>\n",
       "      <td>90.0</td>\n",
       "    </tr>\n",
       "    <tr>\n",
       "      <th>3</th>\n",
       "      <td>James Hoye</td>\n",
       "      <td>000023f8-e153-4dcd-9ba0-627ecc9f162e</td>\n",
       "      <td>Away</td>\n",
       "      <td>Ball</td>\n",
       "      <td>-88</td>\n",
       "      <td>143</td>\n",
       "      <td>L</td>\n",
       "      <td>R</td>\n",
       "      <td>FA</td>\n",
       "      <td>94.0</td>\n",
       "    </tr>\n",
       "    <tr>\n",
       "      <th>4</th>\n",
       "      <td>James Hoye</td>\n",
       "      <td>000023f8-e153-4dcd-9ba0-627ecc9f162e</td>\n",
       "      <td>Away</td>\n",
       "      <td>Ball</td>\n",
       "      <td>-200</td>\n",
       "      <td>-34</td>\n",
       "      <td>L</td>\n",
       "      <td>R</td>\n",
       "      <td>FA</td>\n",
       "      <td>93.0</td>\n",
       "    </tr>\n",
       "  </tbody>\n",
       "</table>\n",
       "</div>"
      ],
      "text/plain": [
       "       Umpire                               Game_ID Home/Away  \\\n",
       "0  James Hoye  000023f8-e153-4dcd-9ba0-627ecc9f162e      Away   \n",
       "1  James Hoye  000023f8-e153-4dcd-9ba0-627ecc9f162e      Away   \n",
       "2  James Hoye  000023f8-e153-4dcd-9ba0-627ecc9f162e      Away   \n",
       "3  James Hoye  000023f8-e153-4dcd-9ba0-627ecc9f162e      Away   \n",
       "4  James Hoye  000023f8-e153-4dcd-9ba0-627ecc9f162e      Away   \n",
       "\n",
       "  Called Ball/Strike  Pitch_X  Pitch_Y Pitcher_Hand Batter_Hand Pitch_Type  \\\n",
       "0               Ball     -170      -47            L           R         FA   \n",
       "1             Strike       82      -21            L           R         FA   \n",
       "2               Ball       41      152            L           R         FA   \n",
       "3               Ball      -88      143            L           R         FA   \n",
       "4               Ball     -200      -34            L           R         FA   \n",
       "\n",
       "   Pitch_Speed  \n",
       "0         91.0  \n",
       "1         89.0  \n",
       "2         90.0  \n",
       "3         94.0  \n",
       "4         93.0  "
      ]
     },
     "execution_count": 14,
     "metadata": {},
     "output_type": "execute_result"
    }
   ],
   "source": [
    "# Import file to df\n",
    "\n",
    "# Store filepath in a variable\n",
    "pitch_datapath = \"Resources/pitch_data.csv\"\n",
    "\n",
    "# Read our Data file with the pandas library\n",
    "# Not every CSV requires an encoding, but be aware this can come up\n",
    "pitch_data_df = pd.read_csv(pitch_datapath, encoding=\"ISO-8859-1\")\n",
    "\n",
    "# Show just the header\n",
    "pitch_data_df.head()"
   ]
  },
  {
   "cell_type": "code",
   "execution_count": 16,
   "metadata": {},
   "outputs": [
    {
     "data": {
      "text/plain": [
       "Umpire                4688\n",
       "Game_ID               4688\n",
       "Home/Away             4688\n",
       "Called Ball/Strike    4688\n",
       "Pitch_X               4688\n",
       "Pitch_Y               4688\n",
       "Pitcher_Hand          4688\n",
       "Batter_Hand           4688\n",
       "Pitch_Type            4688\n",
       "Pitch_Speed           4688\n",
       "dtype: int64"
      ]
     },
     "execution_count": 16,
     "metadata": {},
     "output_type": "execute_result"
    }
   ],
   "source": [
    "# Checking that all the fields have data\n",
    "pitch_data_df.count()"
   ]
  },
  {
   "cell_type": "code",
   "execution_count": 15,
   "metadata": {},
   "outputs": [
    {
     "data": {
      "text/plain": [
       "[<matplotlib.lines.Line2D at 0x20d4748c390>]"
      ]
     },
     "execution_count": 15,
     "metadata": {},
     "output_type": "execute_result"
    },
    {
     "data": {
      "image/png": "[encoded data removed]",
      "text/plain": [
       "<Figure size 432x288 with 1 Axes>"
      ]
     },
     "metadata": {
      "needs_background": "light"
     },
     "output_type": "display_data"
    }
   ],
   "source": [
    "# CHART VALUES\n",
    "# Chart will be from -300 to 300 for both X and Y\n",
    "plt.ylim(-300,300)\n",
    "plt.xlim(-300,300)\n",
    "\n",
    "# Build the scatter plots for the strikes and balls\n",
    "x_axis_s = weather_data[\"Pitch_x\"]\n",
    "y_axis_s = weather_data[\"Pitch_y\"]\n",
    "x_axis_b = weather_data[\"Pitch_x\"]\n",
    "y_axis_b = weather_data[\"Pitch_y\"]\n",
    "\n",
    "# set the colors\n",
    "# temp_plot = plt.scatter(x_axisu, y_axisu, marker=\"o\", facecolors=\"lightcoral\",edgecolors=\"black\", s=10*dcu, alpha=0.75)\n",
    "temp_plot = plt.scatter(x_axisu, y_axisu, marker=\"o\", facecolors=\"plum\",edgecolors=\"black\", alpha=0.75)\n",
    "plt.grid()\n",
    "\n",
    "# add the titleing (not the the \\n is like a ^p for the text)\n",
    "plt.title(\"title\")\n",
    "plt.xlabel(\"x lable\")\n",
    "plt.ylabel(\"y lable\")\n",
    "# We might want to put a note to the side so this is a placeholder\n",
    "# plt.text(42, 35, \"Note: \\nThe note goes here.\")\n",
    "\n",
    "# create and size the ledgend\n",
    "lgnd= plt.legend([\"Ball\", \"Strike\"], loc=1, markerscale = .5, title=\"Pitch Type\")\n",
    "# this part adds the pitch types, and makes all the dots in the legond the same size\n",
    "# lgnd.legendHandles[0]._sizes = [30]\n",
    "# lgnd.legendHandles[1]._sizes = [30]\n",
    "\n",
    "# adds a box to show the strike zone\n",
    "x = [-100, -100, 100, 100, -100]\n",
    "y = [100, -100, -100, 100, 100]\n",
    "plt.plot(x, y)\n",
    "\n",
    "\n",
    "\n",
    "\n",
    "#save the file\n",
    "# plt.savefig(\"../Images/image_name.png\", bbox_inches=\"tight\")"
   ]
  },
  {
   "cell_type": "code",
   "execution_count": null,
   "metadata": {},
   "outputs": [],
   "source": [
    "# Show plot\n",
    "plt.show()"
   ]
  },
  {
   "cell_type": "code",
   "execution_count": 7,
   "metadata": {},
   "outputs": [
    {
     "data": {
      "image/png": "[encoded data removed]",
      "text/plain": [
       "<Figure size 432x288 with 1 Axes>"
      ]
     },
     "metadata": {
      "needs_background": "light"
     },
     "output_type": "display_data"
    }
   ],
   "source": [
    "a = [1, 2, 3, 4]\n",
    "b = [1, 2, 3, 4]\n",
    "x = [2, 2, 3, 3, 2]\n",
    "y = [3, 2, 2, 3, 3]\n",
    "\n",
    "plt.scatter(x=a, y=b)\n",
    "plt.plot(x, y)\n",
    "plt.show()"
   ]
  },
  {
   "cell_type": "code",
   "execution_count": null,
   "metadata": {},
   "outputs": [],
   "source": []
  }
 ],
 "metadata": {
  "kernelspec": {
   "display_name": "Python 3",
   "language": "python",
   "name": "python3"
  },
  "language_info": {
   "codemirror_mode": {
    "name": "ipython",
    "version": 3
   },
   "file_extension": ".py",
   "mimetype": "text/x-python",
   "name": "python",
   "nbconvert_exporter": "python",
   "pygments_lexer": "ipython3",
   "version": "3.6.6"
  }
 },
 "nbformat": 4,
 "nbformat_minor": 2
}
